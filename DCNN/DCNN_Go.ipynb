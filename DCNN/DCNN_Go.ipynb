{
 "cells": [
  {
   "cell_type": "code",
   "execution_count": 1,
   "metadata": {
    "collapsed": false
   },
   "outputs": [],
   "source": [
    "import json\n",
    "import lasagne\n",
    "from lasagne import nonlinearities\n",
    "import numpy as np\n",
    "import theano"
   ]
  },
  {
   "cell_type": "code",
   "execution_count": 2,
   "metadata": {
    "collapsed": true
   },
   "outputs": [],
   "source": [
    "dataT = open(\"allenNetwork.json\")\n",
    "s = dataT.read()\n",
    "obj = json.loads(s)"
   ]
  },
  {
   "cell_type": "code",
   "execution_count": 3,
   "metadata": {
    "collapsed": false
   },
   "outputs": [],
   "source": [
    "listOfLayers = obj['layers']"
   ]
  },
  {
   "cell_type": "code",
   "execution_count": 4,
   "metadata": {
    "collapsed": false,
    "scrolled": true
   },
   "outputs": [],
   "source": [
    "# build input layer\n",
    "inputLayer = listOfLayers[0]\n",
    "input_var = theano.tensor.tensor4('inputs')\n",
    "l_in = lasagne.layers.InputLayer(shape=(None, 8, 25, 25), input_var=input_var)"
   ]
  },
  {
   "cell_type": "code",
   "execution_count": 6,
   "metadata": {
    "collapsed": false
   },
   "outputs": [
    {
     "name": "stdout",
     "output_type": "stream",
     "text": [
      "8 7 7 1 0\n",
      "64 5 5 1 2\n",
      "64 5 5 1 2\n",
      "64 5 5 1 2\n",
      "48 5 5 1 2\n",
      "48 5 5 1 2\n",
      "32 5 5 1 2\n"
     ]
    }
   ],
   "source": [
    "layerWeightMatrices = []\n",
    "convolutionLayers = [l_in]\n",
    "\n",
    "for layer in listOfLayers:\n",
    "    if(layer['layer_type'] == 'conv'):\n",
    "        filterWeights = layer['filters']\n",
    "        \n",
    "        noOfFilters = len(filterWeights) \n",
    "        sx = filterWeights[0]['sx']\n",
    "        sy = filterWeights[0]['sy']\n",
    "        depth = filterWeights[0]['depth']\n",
    "        print depth, sx, sy, layer['stride'], layer['pad']\n",
    "        weightArray = np.zeros((noOfFilters,depth,sx,sy))\n",
    "        \n",
    "        for index in range(0, len(filterWeights)):\n",
    "            weights = np.array(filterWeights[index]['w'])\n",
    "            weights = weights.reshape((depth,sx,sy))\n",
    "            weightArray[index] = weights\n",
    "        \n",
    "        biases = np.array(layer['biases']['w'])\n",
    "        \n",
    "        convLayer = lasagne.layers.Conv2DLayer(incoming = convolutionLayers[-1], num_filters = noOfFilters, filter_size = (sx,sy), stride = layer['stride'], pad = layer['pad'], W = weightArray, b = biases, nonlinearity = lasagne.nonlinearities.rectify)\n",
    "        convolutionLayers.append(convLayer)\n",
    "        layerWeightMatrices.append(weightArray)"
   ]
  },
  {
   "cell_type": "code",
   "execution_count": 7,
   "metadata": {
    "collapsed": false
   },
   "outputs": [],
   "source": [
    "for layer in listOfLayers:\n",
    "    if(layer['layer_type'] == 'fc'):\n",
    "        num_units  = len(layer['filters'])\n",
    "        num_inputs = layer['num_inputs']\n",
    "        weights = np.zeros((num_units, num_inputs))\n",
    "        for i in range(0, num_units):\n",
    "            weights[i] = np.array(layer['filters'][i]['w'])\n",
    "        weights = np.transpose(weights)\n",
    "        biases = np.array(layer['biases']['w'])\n",
    "        fcLayer = lasagne.layers.DenseLayer(incoming = convolutionLayers[-1], num_units = num_units, W = weights, b = biases, nonlinearity=lasagne.nonlinearities.softmax)"
   ]
  },
  {
   "cell_type": "code",
   "execution_count": 8,
   "metadata": {
    "collapsed": false,
    "scrolled": false
   },
   "outputs": [
    {
     "name": "stderr",
     "output_type": "stream",
     "text": [
      "WARNING (theano.gof.compilelock): Overriding existing lock by dead process '10520' (I am process '9140')\n",
      "WARNING:theano.gof.compilelock:Overriding existing lock by dead process '10520' (I am process '9140')\n",
      "INFO (theano.gof.compilelock): Refreshing lock C:\\Users\\haresh\\AppData\\Local\\Theano\\compiledir_Windows-8-6.2.9200-Intel64_Family_6_Model_58_Stepping_9_GenuineIntel-2.7.10-64\\lock_dir\\lock\n",
      "INFO:theano.gof.compilelock:Refreshing lock C:\\Users\\haresh\\AppData\\Local\\Theano\\compiledir_Windows-8-6.2.9200-Intel64_Family_6_Model_58_Stepping_9_GenuineIntel-2.7.10-64\\lock_dir\\lock\n",
      "INFO (theano.gof.compilelock): Refreshing lock C:\\Users\\haresh\\AppData\\Local\\Theano\\compiledir_Windows-8-6.2.9200-Intel64_Family_6_Model_58_Stepping_9_GenuineIntel-2.7.10-64\\lock_dir\\lock\n",
      "INFO:theano.gof.compilelock:Refreshing lock C:\\Users\\haresh\\AppData\\Local\\Theano\\compiledir_Windows-8-6.2.9200-Intel64_Family_6_Model_58_Stepping_9_GenuineIntel-2.7.10-64\\lock_dir\\lock\n",
      "INFO (theano.gof.compilelock): Refreshing lock C:\\Users\\haresh\\AppData\\Local\\Theano\\compiledir_Windows-8-6.2.9200-Intel64_Family_6_Model_58_Stepping_9_GenuineIntel-2.7.10-64\\lock_dir\\lock\n",
      "INFO:theano.gof.compilelock:Refreshing lock C:\\Users\\haresh\\AppData\\Local\\Theano\\compiledir_Windows-8-6.2.9200-Intel64_Family_6_Model_58_Stepping_9_GenuineIntel-2.7.10-64\\lock_dir\\lock\n",
      "INFO (theano.gof.compilelock): Refreshing lock C:\\Users\\haresh\\AppData\\Local\\Theano\\compiledir_Windows-8-6.2.9200-Intel64_Family_6_Model_58_Stepping_9_GenuineIntel-2.7.10-64\\lock_dir\\lock\n",
      "INFO:theano.gof.compilelock:Refreshing lock C:\\Users\\haresh\\AppData\\Local\\Theano\\compiledir_Windows-8-6.2.9200-Intel64_Family_6_Model_58_Stepping_9_GenuineIntel-2.7.10-64\\lock_dir\\lock\n",
      "INFO (theano.gof.compilelock): Refreshing lock C:\\Users\\haresh\\AppData\\Local\\Theano\\compiledir_Windows-8-6.2.9200-Intel64_Family_6_Model_58_Stepping_9_GenuineIntel-2.7.10-64\\lock_dir\\lock\n",
      "INFO:theano.gof.compilelock:Refreshing lock C:\\Users\\haresh\\AppData\\Local\\Theano\\compiledir_Windows-8-6.2.9200-Intel64_Family_6_Model_58_Stepping_9_GenuineIntel-2.7.10-64\\lock_dir\\lock\n",
      "INFO (theano.gof.compilelock): Refreshing lock C:\\Users\\haresh\\AppData\\Local\\Theano\\compiledir_Windows-8-6.2.9200-Intel64_Family_6_Model_58_Stepping_9_GenuineIntel-2.7.10-64\\lock_dir\\lock\n",
      "INFO:theano.gof.compilelock:Refreshing lock C:\\Users\\haresh\\AppData\\Local\\Theano\\compiledir_Windows-8-6.2.9200-Intel64_Family_6_Model_58_Stepping_9_GenuineIntel-2.7.10-64\\lock_dir\\lock\n",
      "INFO (theano.gof.compilelock): Refreshing lock C:\\Users\\haresh\\AppData\\Local\\Theano\\compiledir_Windows-8-6.2.9200-Intel64_Family_6_Model_58_Stepping_9_GenuineIntel-2.7.10-64\\lock_dir\\lock\n",
      "INFO:theano.gof.compilelock:Refreshing lock C:\\Users\\haresh\\AppData\\Local\\Theano\\compiledir_Windows-8-6.2.9200-Intel64_Family_6_Model_58_Stepping_9_GenuineIntel-2.7.10-64\\lock_dir\\lock\n",
      "INFO (theano.gof.compilelock): Refreshing lock C:\\Users\\haresh\\AppData\\Local\\Theano\\compiledir_Windows-8-6.2.9200-Intel64_Family_6_Model_58_Stepping_9_GenuineIntel-2.7.10-64\\lock_dir\\lock\n",
      "INFO:theano.gof.compilelock:Refreshing lock C:\\Users\\haresh\\AppData\\Local\\Theano\\compiledir_Windows-8-6.2.9200-Intel64_Family_6_Model_58_Stepping_9_GenuineIntel-2.7.10-64\\lock_dir\\lock\n",
      "INFO (theano.gof.compilelock): Refreshing lock C:\\Users\\haresh\\AppData\\Local\\Theano\\compiledir_Windows-8-6.2.9200-Intel64_Family_6_Model_58_Stepping_9_GenuineIntel-2.7.10-64\\lock_dir\\lock\n",
      "INFO:theano.gof.compilelock:Refreshing lock C:\\Users\\haresh\\AppData\\Local\\Theano\\compiledir_Windows-8-6.2.9200-Intel64_Family_6_Model_58_Stepping_9_GenuineIntel-2.7.10-64\\lock_dir\\lock\n",
      "INFO (theano.gof.compilelock): Refreshing lock C:\\Users\\haresh\\AppData\\Local\\Theano\\compiledir_Windows-8-6.2.9200-Intel64_Family_6_Model_58_Stepping_9_GenuineIntel-2.7.10-64\\lock_dir\\lock\n",
      "INFO:theano.gof.compilelock:Refreshing lock C:\\Users\\haresh\\AppData\\Local\\Theano\\compiledir_Windows-8-6.2.9200-Intel64_Family_6_Model_58_Stepping_9_GenuineIntel-2.7.10-64\\lock_dir\\lock\n",
      "INFO (theano.gof.compilelock): Refreshing lock C:\\Users\\haresh\\AppData\\Local\\Theano\\compiledir_Windows-8-6.2.9200-Intel64_Family_6_Model_58_Stepping_9_GenuineIntel-2.7.10-64\\lock_dir\\lock\n",
      "INFO:theano.gof.compilelock:Refreshing lock C:\\Users\\haresh\\AppData\\Local\\Theano\\compiledir_Windows-8-6.2.9200-Intel64_Family_6_Model_58_Stepping_9_GenuineIntel-2.7.10-64\\lock_dir\\lock\n"
     ]
    }
   ],
   "source": [
    "prediction_ = lasagne.layers.get_output(fcLayer, deterministic=True)\n",
    "predict_function = theano.function([input_var], prediction_)"
   ]
  },
  {
   "cell_type": "code",
   "execution_count": 9,
   "metadata": {
    "collapsed": false
   },
   "outputs": [],
   "source": [
    "#Test with an input\n",
    "inputBoard = np.zeros((8,25,25))\n",
    "# Set all squares in the edge channel to 1\n",
    "for x in range(0,25):\n",
    "    for y in range(0,25):\n",
    "        if (x < 3 or x >= 22 or y < 3 or y >= 22):\n",
    "            inputBoard[7][x][y] = 1"
   ]
  },
  {
   "cell_type": "code",
   "execution_count": 10,
   "metadata": {
    "collapsed": false
   },
   "outputs": [
    {
     "name": "stdout",
     "output_type": "stream",
     "text": [
      "[[  1.95231664e-03   5.07942633e-03   6.72265353e-03   3.59816450e-03\n",
      "    5.01914296e-03   7.34517351e-03   3.45435575e-03   7.70903061e-03\n",
      "    3.39079471e-03   4.76035503e-03   6.73691324e-03   5.36233268e-03\n",
      "    3.31208880e-03   5.50938950e-03   7.09632841e-03   4.79576522e-03\n",
      "    1.79210897e-03   4.40349411e-03   2.13841782e-03   3.69472251e-03\n",
      "    2.52268933e-03   3.29701430e-03   2.03236106e-03   2.87592417e-03\n",
      "    2.63902938e-03   2.86437668e-03   2.01728146e-03   2.13766565e-03\n",
      "    1.07577354e-03   1.51985198e-03   2.28582073e-03   7.27347049e-03\n",
      "    2.41460069e-03   2.73473463e-03   1.56626751e-03   5.33237049e-03\n",
      "    1.40895882e-03   3.50426548e-03   6.04953981e-03   2.53632338e-03\n",
      "    4.34554518e-03   5.15705230e-03   4.71974242e-03   2.65066457e-03\n",
      "    2.62768620e-03   2.39993952e-03   4.06131482e-03   2.09249502e-03\n",
      "    1.65931129e-03   2.12184176e-03   2.48591461e-03   2.42276468e-03\n",
      "    2.63992725e-03   3.15786901e-03   4.44094341e-03   3.72923891e-03\n",
      "    6.45179851e-03   8.45791779e-03   2.43479202e-03   4.97236873e-03\n",
      "    3.91921670e-03   2.48915835e-03   2.91196953e-03   2.33229521e-03\n",
      "    2.09584902e-03   2.25780670e-03   1.95885999e-03   3.01936198e-03\n",
      "    3.15111025e-03   2.84425474e-03   4.72116007e-03   4.59588307e-03\n",
      "    3.58759241e-03   2.27763389e-03   3.96062014e-03   6.43778822e-03\n",
      "    3.27276475e-03   6.13215178e-03   4.61250782e-03   5.19870300e-03\n",
      "    3.59053308e-03   3.57194555e-03   3.22718766e-03   2.71840151e-03\n",
      "    2.66810680e-03   1.08789393e-03   2.76391023e-03   1.85484112e-03\n",
      "    2.08330939e-03   2.34379132e-03   3.56659127e-03   4.14649027e-03\n",
      "    5.08724246e-03   4.03705294e-03   5.39343219e-03   5.02814168e-03\n",
      "    3.26312603e-03   2.51275508e-03   3.99167860e-03   2.74933514e-03\n",
      "    3.24352134e-03   1.04272794e-03   4.49004853e-03   1.54215065e-03\n",
      "    2.34970119e-03   1.17266770e-03   1.75949888e-03   9.23937719e-04\n",
      "    1.84135999e-03   2.98401011e-03   2.93026765e-03   2.01744573e-03\n",
      "    2.82195850e-03   3.94208604e-03   4.72772516e-03   3.43837254e-03\n",
      "    2.72570456e-03   2.82975484e-03   3.44204452e-03   5.50123041e-03\n",
      "    2.30155500e-03   2.04972283e-03   3.51259955e-03   1.73498182e-03\n",
      "    1.66051471e-03   2.50752886e-03   3.36761699e-03   5.38607735e-03\n",
      "    4.15797551e-03   3.40402881e-03   2.87720350e-03   1.69948513e-03\n",
      "    4.14506430e-03   3.89363026e-03   2.14182510e-03   1.95758212e-03\n",
      "    3.21516139e-03   3.84407766e-03   2.43317626e-03   1.56666654e-03\n",
      "    1.99192090e-03   1.70245173e-03   2.05840659e-03   1.41536610e-03\n",
      "    1.29814332e-03   1.51458848e-03   2.54003949e-03   3.68744757e-03\n",
      "    3.19231674e-03   2.05961792e-03   3.49387446e-03   2.61820483e-03\n",
      "    5.02120600e-03   1.48341565e-03   2.46336039e-03   3.35644325e-03\n",
      "    1.80912603e-03   2.22474757e-03   2.20809122e-03   1.52771757e-03\n",
      "    3.43978327e-03   3.31477787e-03   2.99978951e-03   1.81084392e-03\n",
      "    1.65683699e-03   1.56810905e-03   1.87395163e-03   1.99979775e-03\n",
      "    2.35405563e-03   1.64285221e-03   4.37043704e-03   2.55760211e-03\n",
      "    2.12254444e-03   1.76194676e-03   1.13830818e-03   3.32973689e-03\n",
      "    1.98055227e-03   1.71267403e-03   2.05388126e-03   3.03037030e-03\n",
      "    2.18276300e-03   2.05603685e-03   1.81112699e-03   1.33458730e-03\n",
      "    1.98957870e-03   2.03868458e-03   1.41525634e-03   3.14726354e-03\n",
      "    1.22820535e-03   2.08357517e-03   2.11825888e-03   2.27234914e-03\n",
      "    3.99733329e-03   3.14620376e-03   2.73583139e-03   2.47729378e-03\n",
      "    3.35377516e-03   1.48307436e-03   1.52177914e-03   3.17290764e-03\n",
      "    7.37258611e-04   1.39238907e-03   1.44847755e-03   1.18458123e-03\n",
      "    8.61110833e-04   3.60064522e-03   2.53104221e-03   8.80505746e-04\n",
      "    1.70416238e-03   1.08959738e-03   1.36116645e-03   6.54759645e-03\n",
      "    6.09978259e-03   2.71154980e-03   3.95945876e-03   1.85033645e-03\n",
      "    1.49183113e-03   9.41856431e-04   5.42581703e-04   7.62852834e-04\n",
      "    1.88704056e-03   1.45233317e-03   2.29833952e-03   7.52150732e-04\n",
      "    1.73830164e-03   5.80197957e-03   1.42859442e-03   4.95025430e-04\n",
      "    1.38679123e-03   6.46338100e-04   1.63069832e-03   7.21918009e-03\n",
      "    2.58984473e-03   3.40857037e-03   1.21236878e-03   1.25669654e-03\n",
      "    2.37191933e-03   2.04769782e-03   8.31732539e-04   2.38828774e-03\n",
      "    6.70725847e-04   6.91508050e-04   1.80787172e-03   2.24050904e-03\n",
      "    4.93815915e-03   6.58831888e-04   2.39167331e-03   9.48600971e-03\n",
      "    8.75877700e-04   4.08293570e-03   3.34771603e-03   3.69133568e-03\n",
      "    2.80050210e-03   2.31938508e-03   1.60799034e-03   1.50784069e-03\n",
      "    1.72574884e-03   8.13115157e-04   7.71868573e-04   1.05309825e-03\n",
      "    1.15122061e-03   2.45948726e-03   1.60530477e-02   6.98187850e-03\n",
      "    3.26309688e-04   7.45575070e-04   1.39990050e-03   6.31062380e-04\n",
      "    1.01171522e-02   1.75404750e-02   5.73440751e-03   1.13180766e-02\n",
      "    7.78348966e-03   6.15415552e-03   2.63959344e-03   1.66698014e-03\n",
      "    1.27104293e-03   2.50595910e-03   3.13269141e-03   2.93197494e-03\n",
      "    6.95617063e-03   2.89558169e-02   4.29535049e-03   5.69002666e-04\n",
      "    1.55846933e-03   2.93380966e-04   8.93988884e-04   2.42531556e-03\n",
      "    5.94143693e-03   1.92398473e-03   2.52184476e-03   2.20562220e-03\n",
      "    1.22256583e-03   4.02913016e-03   2.86755577e-03   1.95162317e-03\n",
      "    7.83629103e-04   9.91653791e-04   1.42900900e-04   5.46962484e-04\n",
      "    4.96601814e-03   7.33152529e-04   2.15018568e-04   3.17654814e-04\n",
      "    1.42521782e-04   1.28223631e-05   2.60940934e-04   3.68800370e-04\n",
      "    3.74388877e-04   6.94200489e-04   9.77015874e-04   9.01406703e-04\n",
      "    2.16503865e-03   2.31787895e-03   7.64663458e-04   2.86017547e-03\n",
      "    5.33876565e-03   1.40792685e-04   1.50507325e-03   1.13793979e-03\n",
      "    2.99768523e-03   1.50248822e-03   9.51031760e-03   1.99428572e-03\n",
      "    1.01422458e-03   5.40387838e-04   3.99385599e-04   2.10451064e-03\n",
      "    4.93526909e-04   2.17148904e-03   4.51715579e-03   4.40438540e-03\n",
      "    3.74360015e-03   3.32527843e-03   4.39694898e-03   8.03049230e-04\n",
      "    1.00145941e-03   7.35302607e-04   2.51256068e-04   3.54673964e-04\n",
      "    1.56503333e-04   3.70146666e-04   1.32870787e-04   9.93199919e-05\n",
      "    1.16405122e-04   1.73517265e-04   7.50116963e-05   1.49218519e-04\n",
      "    1.73441143e-04   4.55564736e-05   2.26279108e-04   1.70025181e-04\n",
      "    1.95546493e-04   5.12397039e-05   1.17496470e-04   6.19758097e-05\n",
      "    1.11707678e-04   4.11733224e-04   1.39496028e-03   1.15981039e-03\n",
      "    5.18506910e-04]]\n"
     ]
    }
   ],
   "source": [
    "inputBoard = inputBoard.reshape(1,8,25,25)\n",
    "Y_pred = predict_function(inputBoard)\n",
    "print Y_pred"
   ]
  },
  {
   "cell_type": "code",
   "execution_count": 13,
   "metadata": {
    "collapsed": false
   },
   "outputs": [
    {
     "name": "stdout",
     "output_type": "stream",
     "text": [
      "281\n"
     ]
    }
   ],
   "source": [
    "print np.argmax(Y_pred[0])"
   ]
  },
  {
   "cell_type": "code",
   "execution_count": 16,
   "metadata": {
    "collapsed": false
   },
   "outputs": [
    {
     "name": "stdout",
     "output_type": "stream",
     "text": [
      "14 15\n"
     ]
    }
   ],
   "source": [
    "print (281/19), (281 % 19)"
   ]
  },
  {
   "cell_type": "code",
   "execution_count": 23,
   "metadata": {
    "collapsed": false
   },
   "outputs": [
    {
     "name": "stdout",
     "output_type": "stream",
     "text": [
      "281\n",
      "0.0289558169147\n"
     ]
    }
   ],
   "source": [
    "boardProbs = Y_pred[0].reshape((19,19))\n",
    "print np.argmax(boardProbs)\n",
    "print np.amax(boardProbs)"
   ]
  },
  {
   "cell_type": "code",
   "execution_count": 25,
   "metadata": {
    "collapsed": false
   },
   "outputs": [
    {
     "name": "stdout",
     "output_type": "stream",
     "text": [
      "0.0289558169147\n"
     ]
    }
   ],
   "source": [
    "print boardProbs[14][15]"
   ]
  },
  {
   "cell_type": "code",
   "execution_count": null,
   "metadata": {
    "collapsed": true
   },
   "outputs": [],
   "source": []
  }
 ],
 "metadata": {
  "kernelspec": {
   "display_name": "Python 2",
   "language": "python",
   "name": "python2"
  },
  "language_info": {
   "codemirror_mode": {
    "name": "ipython",
    "version": 2
   },
   "file_extension": ".py",
   "mimetype": "text/x-python",
   "name": "python",
   "nbconvert_exporter": "python",
   "pygments_lexer": "ipython2",
   "version": "2.7.10"
  }
 },
 "nbformat": 4,
 "nbformat_minor": 0
}
